{
 "cells": [
  {
   "cell_type": "code",
   "execution_count": 1,
   "metadata": {
    "ExecuteTime": {
     "end_time": "2019-05-10T06:17:17.158557Z",
     "start_time": "2019-05-10T06:17:16.789298Z"
    }
   },
   "outputs": [],
   "source": [
    "import pathlib\n",
    "import cv2\n",
    "import numpy as np\n",
    "from numpy import linalg\n",
    "import matplotlib.pyplot as plt\n",
    "plt.style.use(\"seaborn-white\")\n",
    "from tqdm import tqdm_notebook as tqdm\n",
    "import pandas as pd\n",
    "from copy import deepcopy"
   ]
  },
  {
   "cell_type": "code",
   "execution_count": 2,
   "metadata": {
    "ExecuteTime": {
     "end_time": "2019-05-10T06:17:21.844322Z",
     "start_time": "2019-05-10T06:17:21.834549Z"
    }
   },
   "outputs": [],
   "source": [
    "# BODY_25 Output Format\n",
    "keypointsMapping = {\n",
    "    0: 'Nose',\n",
    "    1: 'Neck',\n",
    "    2: 'RShoulder',\n",
    "    3: 'RElbow',\n",
    "    4: 'RWrist',\n",
    "    5: 'LShoulder',\n",
    "    6: 'LElbow',\n",
    "    7: 'LWrist',\n",
    "    8: 'MidHip',\n",
    "    9: 'RHip',\n",
    "    10: 'RKnee',\n",
    "    11: 'RAnkle',\n",
    "    12: 'LHip',\n",
    "    13: 'LKnee',\n",
    "    14: 'LAnkle',\n",
    "    15: 'REye',\n",
    "    16: 'LEye',\n",
    "    17: 'REar',\n",
    "    18: 'LEar',\n",
    "    19: \"LBigToe\",\n",
    "    20: \"LSmallToe\",\n",
    "    21: \"LHeel\",\n",
    "    22: \"RBigToe\",\n",
    "    23: \"RSmallToe\",\n",
    "    24: \"RHeel\",\n",
    "    25: \"Background\"\n",
    "}"
   ]
  },
  {
   "cell_type": "markdown",
   "metadata": {},
   "source": [
    "# データフレームの読み込み"
   ]
  },
  {
   "cell_type": "code",
   "execution_count": 5,
   "metadata": {
    "ExecuteTime": {
     "end_time": "2019-05-10T07:21:47.679365Z",
     "start_time": "2019-05-10T07:21:46.436480Z"
    }
   },
   "outputs": [
    {
     "name": "stdout",
     "output_type": "stream",
     "text": [
      "データ数: 211080\n"
     ]
    },
    {
     "data": {
      "text/html": [
       "<div>\n",
       "<style scoped>\n",
       "    .dataframe tbody tr th:only-of-type {\n",
       "        vertical-align: middle;\n",
       "    }\n",
       "\n",
       "    .dataframe tbody tr th {\n",
       "        vertical-align: top;\n",
       "    }\n",
       "\n",
       "    .dataframe thead th {\n",
       "        text-align: right;\n",
       "    }\n",
       "</style>\n",
       "<table border=\"1\" class=\"dataframe\">\n",
       "  <thead>\n",
       "    <tr style=\"text-align: right;\">\n",
       "      <th></th>\n",
       "      <th>img_path</th>\n",
       "      <th>keypoint_path</th>\n",
       "      <th>visualized_path</th>\n",
       "    </tr>\n",
       "  </thead>\n",
       "  <tbody>\n",
       "    <tr>\n",
       "      <th>0</th>\n",
       "      <td>/home/yohei/Documents/tlab/data/fashion550k/ph...</td>\n",
       "      <td>/home/yohei/Documents/tlab/data/fashion550k/an...</td>\n",
       "      <td>/home/yohei/Documents/tlab/data/fashion550k/an...</td>\n",
       "    </tr>\n",
       "    <tr>\n",
       "      <th>1</th>\n",
       "      <td>/home/yohei/Documents/tlab/data/fashion550k/ph...</td>\n",
       "      <td>/home/yohei/Documents/tlab/data/fashion550k/an...</td>\n",
       "      <td>/home/yohei/Documents/tlab/data/fashion550k/an...</td>\n",
       "    </tr>\n",
       "    <tr>\n",
       "      <th>2</th>\n",
       "      <td>/home/yohei/Documents/tlab/data/fashion550k/ph...</td>\n",
       "      <td>/home/yohei/Documents/tlab/data/fashion550k/an...</td>\n",
       "      <td>/home/yohei/Documents/tlab/data/fashion550k/an...</td>\n",
       "    </tr>\n",
       "    <tr>\n",
       "      <th>3</th>\n",
       "      <td>/home/yohei/Documents/tlab/data/fashion550k/ph...</td>\n",
       "      <td>/home/yohei/Documents/tlab/data/fashion550k/an...</td>\n",
       "      <td>/home/yohei/Documents/tlab/data/fashion550k/an...</td>\n",
       "    </tr>\n",
       "    <tr>\n",
       "      <th>4</th>\n",
       "      <td>/home/yohei/Documents/tlab/data/fashion550k/ph...</td>\n",
       "      <td>/home/yohei/Documents/tlab/data/fashion550k/an...</td>\n",
       "      <td>/home/yohei/Documents/tlab/data/fashion550k/an...</td>\n",
       "    </tr>\n",
       "  </tbody>\n",
       "</table>\n",
       "</div>"
      ],
      "text/plain": [
       "                                            img_path  \\\n",
       "0  /home/yohei/Documents/tlab/data/fashion550k/ph...   \n",
       "1  /home/yohei/Documents/tlab/data/fashion550k/ph...   \n",
       "2  /home/yohei/Documents/tlab/data/fashion550k/ph...   \n",
       "3  /home/yohei/Documents/tlab/data/fashion550k/ph...   \n",
       "4  /home/yohei/Documents/tlab/data/fashion550k/ph...   \n",
       "\n",
       "                                       keypoint_path  \\\n",
       "0  /home/yohei/Documents/tlab/data/fashion550k/an...   \n",
       "1  /home/yohei/Documents/tlab/data/fashion550k/an...   \n",
       "2  /home/yohei/Documents/tlab/data/fashion550k/an...   \n",
       "3  /home/yohei/Documents/tlab/data/fashion550k/an...   \n",
       "4  /home/yohei/Documents/tlab/data/fashion550k/an...   \n",
       "\n",
       "                                     visualized_path  \n",
       "0  /home/yohei/Documents/tlab/data/fashion550k/an...  \n",
       "1  /home/yohei/Documents/tlab/data/fashion550k/an...  \n",
       "2  /home/yohei/Documents/tlab/data/fashion550k/an...  \n",
       "3  /home/yohei/Documents/tlab/data/fashion550k/an...  \n",
       "4  /home/yohei/Documents/tlab/data/fashion550k/an...  "
      ]
     },
     "execution_count": 5,
     "metadata": {},
     "output_type": "execute_result"
    }
   ],
   "source": [
    "# path\n",
    "root_dir = pathlib.Path(\"../../data/fashion550k\").resolve()\n",
    "original_csv_path = root_dir / \"dataframe/dataframe.csv\"\n",
    "# 対象はデータ選択1-2のデータセット\n",
    "csv_path = root_dir / \"dataframe/selection1-2/selection05-04_df.csv\"\n",
    "save_dir = pathlib.Path(\"make_map4selection05-04\")\n",
    "if not save_dir.exists():\n",
    "    save_dir.mkdir()\n",
    "# データ選択０で指定されたデータフレーム\n",
    "df = pd.read_csv(csv_path)\n",
    "print(\"データ数:\", len(df))\n",
    "df.head()"
   ]
  },
  {
   "cell_type": "markdown",
   "metadata": {},
   "source": [
    "# 胴体がねじれているケースの検出\n",
    "\n",
    "胴体がねじれているケース（つまり，上はRShokder, Neck, LSholder，下はLHip，MidHip，RHipの順番になっているケース）はあるのか．もしあるのであれば，そのデータ数はいくつでその時マップはどうなっているのかを調べる．\n",
    "\n",
    "- 調べ方：RShoulder:2, Neck:1, LShoulder:5の と RHip:9, MidHip:8, LHip:12 の順番が以下の場合は捻れているケース\n",
    "\n",
    "    1. 肩ラインのx座標の値が[2, 1, 5] の順に大きい時， 腰ラインのx座標の値が[12, 8, 9]の順に大きい場合\n",
    "\n",
    "    1. 肩ラインのx座標の値が[5, 1, 2] の順に大きい時， 腰ラインのx座標の値が[9, 8, 12]の順に大きい場合"
   ]
  },
  {
   "cell_type": "code",
   "execution_count": 4,
   "metadata": {
    "ExecuteTime": {
     "end_time": "2019-05-10T07:06:45.401086Z",
     "start_time": "2019-05-10T07:06:45.393474Z"
    }
   },
   "outputs": [
    {
     "name": "stdout",
     "output_type": "stream",
     "text": [
      "Neck, RShoulder, LShoulder, MidHip, RHip, LHip, "
     ]
    }
   ],
   "source": [
    "attention = [1, 2, 5, 8, 9, 12]\n",
    "for a in attention:\n",
    "    print(keypointsMapping[a], end=\", \")"
   ]
  },
  {
   "cell_type": "code",
   "execution_count": 19,
   "metadata": {
    "ExecuteTime": {
     "end_time": "2019-05-10T07:42:53.870987Z",
     "start_time": "2019-05-10T07:42:21.711136Z"
    }
   },
   "outputs": [
    {
     "data": {
      "application/vnd.jupyter.widget-view+json": {
       "model_id": "d14d0cc2a6d24de990293ca8a7b26b68",
       "version_major": 2,
       "version_minor": 0
      },
      "text/plain": [
       "HBox(children=(IntProgress(value=0, max=211080), HTML(value='')))"
      ]
     },
     "metadata": {},
     "output_type": "display_data"
    }
   ],
   "source": [
    "# 全データでやってみる\n",
    "upper = [2, 1, 5]  # 肩ライン\n",
    "lower = [9, 8, 12]  # 腰ライン\n",
    "cnt=0\n",
    "for _, (img_path, keypoint_path, vis_path) in tqdm(df.iterrows(), total=len(df)):\n",
    "    point = []\n",
    "    for i in upper:\n",
    "        point.append(keypoint[0, i, 0])\n",
    "    judge = np.all(np.argsort(point) == np.array([0, 1,\n",
    "                                                  2]))  # 2, 1, 5の順に並んでいるのかどうかを判定\n",
    "    point = []\n",
    "    if judge:  # [2,1,5]の順の時，つまり肩ラインが前を向いている時\n",
    "        for i in lower[::-1]:\n",
    "            point.append(keypoint[0, i, 0])\n",
    "        flag = np.all(np.argsort(point) == np.array([0, 1, 2]))\n",
    "    else:  # [5,1,2]の順の時，つまり肩ラインが後ろを向いている時\n",
    "        for i in lower:\n",
    "            point.append(keypoint[0, i, 0])\n",
    "        flag = np.all(np.argsort(point) == np.array([0, 1, 2]))\n",
    "    if flag:\n",
    "        print(\"発見!\")\n",
    "    else:\n",
    "        cnt += 1"
   ]
  },
  {
   "cell_type": "code",
   "execution_count": 25,
   "metadata": {
    "ExecuteTime": {
     "end_time": "2019-05-10T07:58:20.679477Z",
     "start_time": "2019-05-10T07:57:18.981678Z"
    }
   },
   "outputs": [
    {
     "name": "stdout",
     "output_type": "stream",
     "text": [
      "391798\n"
     ]
    },
    {
     "data": {
      "application/vnd.jupyter.widget-view+json": {
       "model_id": "28731b37011245fa95ea023eed01460c",
       "version_major": 2,
       "version_minor": 0
      },
      "text/plain": [
       "HBox(children=(IntProgress(value=0, max=391798), HTML(value='')))"
      ]
     },
     "metadata": {},
     "output_type": "display_data"
    }
   ],
   "source": [
    "# 対象データセットをデータ選択０で選択されたデータ391, 798枚に変更\n",
    "\n",
    "path = root_dir / \"dataframe/selection0/select_df.csv\"\n",
    "df = pd.read_csv(path)\n",
    "print(len(df))\n",
    "\n",
    "upper = [2, 1, 5]  # 肩ライン\n",
    "lower = [9, 8, 12]  # 腰ライン\n",
    "cnt=0\n",
    "for _, (img_path, keypoint_path, vis_path) in tqdm(df.iterrows(), total=len(df)):\n",
    "    point = []\n",
    "    for i in upper:\n",
    "        point.append(keypoint[0, i, 0])\n",
    "    judge = np.all(np.argsort(point) == np.array([0, 1,\n",
    "                                                  2]))  # 2, 1, 5の順に並んでいるのかどうかを判定\n",
    "    point = []\n",
    "    if judge:  # [2,1,5]の順の時，つまり肩ラインが前を向いている時\n",
    "        for i in lower[::-1]:\n",
    "            point.append(keypoint[0, i, 0])\n",
    "        flag = np.all(np.argsort(point) == np.array([0, 1, 2]))\n",
    "    else:  # [5,1,2]の順の時，つまり肩ラインが後ろを向いている時\n",
    "        for i in lower:\n",
    "            point.append(keypoint[0, i, 0])\n",
    "        flag = np.all(np.argsort(point) == np.array([0, 1, 2]))\n",
    "    if flag:\n",
    "        print(\"発見!\")\n",
    "    else:\n",
    "        cnt += 1"
   ]
  },
  {
   "cell_type": "code",
   "execution_count": 33,
   "metadata": {
    "ExecuteTime": {
     "end_time": "2019-05-10T08:05:03.530346Z",
     "start_time": "2019-05-10T08:05:03.523064Z"
    },
    "scrolled": true
   },
   "outputs": [
    {
     "data": {
      "text/plain": [
       "(1, 25, 3)"
      ]
     },
     "execution_count": 33,
     "metadata": {},
     "output_type": "execute_result"
    }
   ],
   "source": [
    "# 実際に捻れているケースを作り，検出できるか確認\n",
    "fake_keypoint = np.zeros_like(keypoint)\n",
    "fake_keypoint.shape"
   ]
  },
  {
   "cell_type": "code",
   "execution_count": 28,
   "metadata": {
    "ExecuteTime": {
     "end_time": "2019-05-10T08:00:19.478337Z",
     "start_time": "2019-05-10T08:00:19.471997Z"
    },
    "scrolled": true
   },
   "outputs": [
    {
     "data": {
      "text/plain": [
       "([2, 1, 5], [9, 8, 12])"
      ]
     },
     "execution_count": 28,
     "metadata": {},
     "output_type": "execute_result"
    }
   ],
   "source": [
    "upper, lower"
   ]
  },
  {
   "cell_type": "code",
   "execution_count": 29,
   "metadata": {
    "ExecuteTime": {
     "end_time": "2019-05-10T08:02:52.625096Z",
     "start_time": "2019-05-10T08:02:52.618122Z"
    }
   },
   "outputs": [],
   "source": [
    "fake_keypoint[0,2,0], fake_keypoint[0,1,0], fake_keypoint[0,5,0] = 20, 30, 40\n",
    "fake_keypoint[0,12,0], fake_keypoint[0,8,0], fake_keypoint[0,9,0] = 20, 30, 40"
   ]
  },
  {
   "cell_type": "code",
   "execution_count": 34,
   "metadata": {
    "ExecuteTime": {
     "end_time": "2019-05-10T08:05:07.960023Z",
     "start_time": "2019-05-10T08:05:07.945955Z"
    }
   },
   "outputs": [
    {
     "name": "stdout",
     "output_type": "stream",
     "text": [
      "発見!\n"
     ]
    }
   ],
   "source": [
    "point = []\n",
    "for i in upper:\n",
    "    point.append(fake_keypoint[0, i, 0])\n",
    "judge = np.all(np.argsort(point) == np.array([0, 1,\n",
    "                                              2]))  # 2, 1, 5の順に並んでいるのかどうかを判定\n",
    "point = []\n",
    "if judge:  # [2,1,5]の順の時，つまり肩ラインが前を向いている時\n",
    "    for i in lower[::-1]:\n",
    "        point.append(fake_keypoint[0, i, 0])\n",
    "    flag = np.all(np.argsort(point) == np.array([0, 1, 2]))\n",
    "else:  # [5,1,2]の順の時，つまり肩ラインが後ろを向いている時\n",
    "    for i in lower:\n",
    "        point.append(fake_keypoint[0, i, 0])\n",
    "    flag = np.all(np.argsort(point) == np.array([0, 1, 2]))\n",
    "if flag:\n",
    "    print(\"発見!\")\n",
    "else:\n",
    "    cnt += 1"
   ]
  },
  {
   "cell_type": "code",
   "execution_count": null,
   "metadata": {},
   "outputs": [],
   "source": []
  }
 ],
 "metadata": {
  "kernelspec": {
   "display_name": "Python 3",
   "language": "python",
   "name": "python3"
  },
  "language_info": {
   "codemirror_mode": {
    "name": "ipython",
    "version": 3
   },
   "file_extension": ".py",
   "mimetype": "text/x-python",
   "name": "python",
   "nbconvert_exporter": "python",
   "pygments_lexer": "ipython3",
   "version": "3.7.0"
  },
  "toc": {
   "base_numbering": 1,
   "nav_menu": {},
   "number_sections": true,
   "sideBar": true,
   "skip_h1_title": false,
   "title_cell": "Table of Contents",
   "title_sidebar": "Contents",
   "toc_cell": false,
   "toc_position": {},
   "toc_section_display": true,
   "toc_window_display": false
  }
 },
 "nbformat": 4,
 "nbformat_minor": 2
}
